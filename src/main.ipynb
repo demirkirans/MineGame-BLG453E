{
 "cells": [
  {
   "cell_type": "markdown",
   "metadata": {},
   "source": [
    "# Mine Game"
   ]
  },
  {
   "cell_type": "markdown",
   "metadata": {},
   "source": [
    "`Goal`:The Character should reach the last grids "
   ]
  },
  {
   "cell_type": "markdown",
   "metadata": {},
   "source": [
    "---"
   ]
  },
  {
   "cell_type": "markdown",
   "metadata": {},
   "source": [
    "`Part1` --> Detect shocked face and normal face using facial landmark detection"
   ]
  },
  {
   "cell_type": "code",
   "execution_count": 1,
   "metadata": {},
   "outputs": [],
   "source": [
    "import moviepy.editor as mpy\n",
    "import numpy as np\n",
    "import dlib\n",
    "import cv2\n",
    "import winsound\n",
    "import pyautogui\n",
    "import time"
   ]
  },
  {
   "cell_type": "code",
   "execution_count": 2,
   "metadata": {},
   "outputs": [],
   "source": [
    "def showImage(image):\n",
    "    cv2.imshow('Resized Window', image)  #Display image\n",
    "    cv2.waitKey(0)  #Wait for keyboard button press\n",
    "    cv2.destroyAllWindows()  #Exit window and destroy all windows using\n",
    "\n",
    "def showImageResized(image, width, height):\n",
    "    cv2.namedWindow('Resized Window', cv2.WINDOW_NORMAL)  #Create window\n",
    "    cv2.resizeWindow('Resized Window', width, height)  #Resize the window\n",
    "    cv2.imshow('Resized Window', image)  #Display image\n",
    "    cv2.waitKey(0)  #Wait for keyboard button press\n",
    "    cv2.destroyAllWindows()  #Exit window and destroy all windows using"
   ]
  },
  {
   "cell_type": "markdown",
   "metadata": {},
   "source": [
    "**key** is `point 36` since 'x' positions of face landmark points of shocked face is bigger than normal face. \n",
    "\n",
    "* detect face landmark points\n",
    "* compare p36.x\n",
    "* if it is smaller than 84, its normal face\n",
    "* else it is shocked face"
   ]
  },
  {
   "cell_type": "markdown",
   "metadata": {},
   "source": [
    "**Landmark points**"
   ]
  },
  {
   "cell_type": "code",
   "execution_count": 3,
   "metadata": {},
   "outputs": [],
   "source": [
    "#The detector object is used to detect the faces given in an image. It works generally better than \n",
    "#OpenCV's default face detector\n",
    "detector = dlib.get_frontal_face_detector()\n",
    "\n",
    "#To predict the landark points given a face image, a shape predictor with a ready-to-use model\n",
    "#is created. The model can be found under \"http://dlib.net/files/shape_predictor_68_face_landmarks.dat.bz2\"\n",
    "predictor = dlib.shape_predictor(\"shape_predictor_68_face_landmarks.dat\")\n"
   ]
  },
  {
   "cell_type": "markdown",
   "metadata": {},
   "source": [
    "### shcked face"
   ]
  },
  {
   "cell_type": "markdown",
   "metadata": {},
   "source": [
    "**Compare shocked and normal face**"
   ]
  },
  {
   "cell_type": "code",
   "execution_count": 3,
   "metadata": {},
   "outputs": [],
   "source": [
    "def shockedFace(img_gray):\n",
    "    #The predictor only works on grayscale images\n",
    "\n",
    "    #Use detector to find a list of rectangles containing the faces in the image. The rectangles are represented by\n",
    "    #their xy coordinates\n",
    "    rectangles = detector(img_gray)\n",
    "\n",
    "    #points is a dlib structure that stores all facial landmarks points\n",
    "    points = predictor(img_gray, rectangles[0])\n",
    "    \n",
    "    p36_x = points.part(36).x\n",
    "    \n",
    "    if p36_x > 84:\n",
    "        return True\n",
    "    else:\n",
    "        return False\n"
   ]
  },
  {
   "cell_type": "code",
   "execution_count": 15,
   "metadata": {},
   "outputs": [
    {
     "data": {
      "text/plain": [
       "True"
      ]
     },
     "execution_count": 15,
     "metadata": {},
     "output_type": "execute_result"
    }
   ],
   "source": [
    "cv2.imwrite(\"cannyEdgeRemoved.png\", edge)"
   ]
  },
  {
   "cell_type": "markdown",
   "metadata": {},
   "source": [
    "## Edge and corner detection"
   ]
  },
  {
   "cell_type": "code",
   "execution_count": 7,
   "metadata": {},
   "outputs": [],
   "source": [
    "#img = cv2.imread(\"test.png\")\n",
    "#img_gray = cv2.imread(\"test.png\", 0)\n",
    "#edge = cv2.Canny(img_gray, 100, 200)"
   ]
  },
  {
   "cell_type": "code",
   "execution_count": 35,
   "metadata": {},
   "outputs": [],
   "source": [
    "#img_gray[843:, 1682:] = 170\n",
    "#showImage(img_gray)"
   ]
  },
  {
   "cell_type": "code",
   "execution_count": 14,
   "metadata": {},
   "outputs": [],
   "source": [
    "#showImage(edge)"
   ]
  },
  {
   "cell_type": "code",
   "execution_count": 147,
   "metadata": {},
   "outputs": [],
   "source": [
    "#cv2.rectangle(img, (928,215), (990,333), (0,255,0), 1)\n",
    "#showImage(img)"
   ]
  },
  {
   "cell_type": "code",
   "execution_count": 13,
   "metadata": {},
   "outputs": [],
   "source": [
    "#edge[215:333, 928:990] = 0 "
   ]
  },
  {
   "cell_type": "code",
   "execution_count": 104,
   "metadata": {},
   "outputs": [],
   "source": [
    "#checkedge = edge[274-10:274+10, 965-200:965+200]"
   ]
  },
  {
   "cell_type": "code",
   "execution_count": 5,
   "metadata": {},
   "outputs": [],
   "source": [
    "def onEdge(img_gray, direction):\n",
    "    #detect edges first \n",
    "    edge = cv2.Canny(img_gray, 100, 200)\n",
    "    \n",
    "    #remove the character from it\n",
    "    edge[215:333, 928:990] = 0 \n",
    "    \n",
    "    if direction == 'x':\n",
    "    \n",
    "        #check if its on the edge or not\n",
    "        checkedge = edge[274-10:274+10, 965-200:965+200]\n",
    "\n",
    "        if np.count_nonzero(checkedge) == 0:\n",
    "            #its edge\n",
    "            return True\n",
    "        else:\n",
    "            return False\n",
    "    elif direction == 'y': #direction is y\n",
    "        #check if its on the edge or not\n",
    "        checkedge = edge[274-200:274+200, 965-10:965+10]\n",
    "\n",
    "        if np.count_nonzero(checkedge) == 0:\n",
    "            #its edge\n",
    "            return True\n",
    "        else:\n",
    "            return False"
   ]
  },
  {
   "cell_type": "code",
   "execution_count": null,
   "metadata": {},
   "outputs": [],
   "source": []
  },
  {
   "cell_type": "markdown",
   "metadata": {},
   "source": [
    "## Game"
   ]
  },
  {
   "cell_type": "code",
   "execution_count": 6,
   "metadata": {},
   "outputs": [
    {
     "data": {
      "text/plain": [
       "array([[0, 0, 0, 0, 0, 0, 0, 0, 0, 0, 0],\n",
       "       [0, 1, 1, 1, 1, 1, 1, 1, 1, 1, 0],\n",
       "       [0, 1, 1, 1, 1, 1, 1, 1, 1, 1, 0],\n",
       "       [0, 1, 1, 1, 1, 1, 1, 1, 1, 1, 0],\n",
       "       [0, 1, 1, 1, 0, 0, 0, 0, 0, 0, 0],\n",
       "       [0, 1, 1, 1, 0, 0, 0, 0, 0, 0, 0],\n",
       "       [0, 0, 0, 0, 0, 0, 0, 0, 0, 0, 0]], dtype=uint8)"
      ]
     },
     "execution_count": 6,
     "metadata": {},
     "output_type": "execute_result"
    }
   ],
   "source": [
    "#initialize matrix for map\n",
    "map = np.zeros((7,11), dtype=np.uint8)\n",
    "#mark game area\n",
    "map[1:4, 1:10] = 1\n",
    "map[4:6, 1:4] = 1\n",
    "map"
   ]
  },
  {
   "cell_type": "code",
   "execution_count": 13,
   "metadata": {},
   "outputs": [],
   "source": [
    "#we will create another matrix for mine and visit knowledge\n",
    "mine_map  = np.zeros((7,11), dtype=np.uint8)\n",
    "visit_map = np.zeros((7,11), dtype=np.uint8)"
   ]
  },
  {
   "cell_type": "code",
   "execution_count": null,
   "metadata": {},
   "outputs": [],
   "source": []
  },
  {
   "cell_type": "code",
   "execution_count": null,
   "metadata": {},
   "outputs": [],
   "source": []
  },
  {
   "cell_type": "code",
   "execution_count": null,
   "metadata": {},
   "outputs": [
    {
     "name": "stdout",
     "output_type": "stream",
     "text": [
      "Shocked face detected\n",
      "current point (5, 1)\n",
      "current point (4, 1)\n",
      "current point (3, 1)\n",
      "current point (3, 2)\n",
      "Shocked face detected\n",
      "current point (2, 2)\n",
      "current point (2, 3)\n",
      "current point (2, 4)\n",
      "Shocked face detected\n",
      "Shocked face detected\n",
      "current point (3, 4)\n"
     ]
    }
   ],
   "source": [
    "current_point = (5,2)\n",
    "initial = 0\n",
    "anomaly = False\n",
    "\n",
    "time.sleep(3)\n",
    "\n",
    "while(True):\n",
    "    \n",
    "    #1 Check neighbours. Select the one that we didnt visit before and no mine\n",
    "    \n",
    "    up    = (current_point[0]-1, current_point[1])    #\n",
    "    left  = (current_point[0]  , current_point[1]-1)\n",
    "    right = (current_point[0]  , current_point[1]+1)\n",
    "    down  = (current_point[0]+1, current_point[1])\n",
    "    \n",
    "    if anomaly:\n",
    "        next_point = last_point\n",
    "        #determine direction\n",
    "        height = current_point[0] - last_point[0]\n",
    "        width = current_point[1] - last_point[1]\n",
    "        \n",
    "        if height == 0 and width == 1:\n",
    "            next_direction = 'left'\n",
    "        if height == 0 and width == -1:\n",
    "            next_direction = 'right'\n",
    "        if height == 1 and width == 0:\n",
    "            next_direction = 'up'\n",
    "        if height == -1 and width == 0:\n",
    "            next_direction = 'down'\n",
    "        \n",
    "        print(\"In Anomaly condition, heading to the \", next_direction, \" direction \")\n",
    "    elif (map[right] == 1 and mine_map[right] == 0 and visit_map[right] == 0 and initial != 0 and initial != 1):\n",
    "        next_point = right\n",
    "        next_direction = 'right'\n",
    "    elif (map[up] == 1 and mine_map[up] == 0 and visit_map[up] == 0):\n",
    "        next_point = up\n",
    "        next_direction = 'up'\n",
    "    elif (map[left] == 1 and mine_map[left] == 0 and visit_map[left] == 0):\n",
    "        next_point = left\n",
    "        next_direction = 'left'\n",
    "    elif (map[down] == 1 and mine_map[down] == 0 and visit_map[down] == 0):\n",
    "        next_point = down\n",
    "        next_direction = 'down'\n",
    "    else:\n",
    "        next_point = last_point\n",
    "        #determine direction\n",
    "        \n",
    "        print(\"Nowhere to go. Im out *-*\")\n",
    "        #break\n",
    "        \n",
    "    \n",
    "    while(True):\n",
    "    \n",
    "        time.sleep(0.001)\n",
    "        #take screenshot\n",
    "        myScreenshot = pyautogui.screenshot()\n",
    "\n",
    "        #PIL to Opencv Format\n",
    "        game_image = np.array(myScreenshot)\n",
    "        #Convert RGB to BGR\n",
    "        game_image = cv2.cvtColor(game_image, cv2.COLOR_RGB2BGR)\n",
    "        game_image_gray = cv2.cvtColor(game_image, cv2.COLOR_BGR2GRAY)\n",
    "        \n",
    "        #2Control screenshot. Shocked face on the right-bottom can be present.\n",
    "        \n",
    "        if shockedFace(game_image_gray[843:, 1682:]) and not anomaly:\n",
    "            print(\"Shocked face detected\")\n",
    "            #2.a Stop moving. mark the point as mined and turn around\n",
    "            mine_map[next_point] = 1\n",
    "            \n",
    "            \n",
    "            if next_direction == 'left':\n",
    "                reverse_direction = 'right'\n",
    "            if next_direction == 'up':\n",
    "                reverse_direction = 'down'\n",
    "            if next_direction == 'right':\n",
    "                reverse_direction = 'left'\n",
    "            if next_direction == 'down':\n",
    "                reverse_direction = 'up'\n",
    "            \n",
    "            #now turn around\n",
    "            \n",
    "            pyautogui.keyDown(reverse_direction)\n",
    "            time.sleep(0.35)\n",
    "            pyautogui.keyUp(reverse_direction)\n",
    "            #back to step 1\n",
    "            \n",
    "            #game is buggy and we again need to check shocked face\n",
    "            #take screenshot\n",
    "            myScreenshot = pyautogui.screenshot()\n",
    "\n",
    "            #PIL to Opencv Format\n",
    "            game_image = np.array(myScreenshot)\n",
    "            #Convert RGB to BGR\n",
    "            game_image = cv2.cvtColor(game_image, cv2.COLOR_RGB2BGR)\n",
    "            game_image_gray = cv2.cvtColor(game_image, cv2.COLOR_BGR2GRAY)\n",
    "            \n",
    "            if shockedFace(game_image_gray[843:, 1682:]):\n",
    "                print(\"Anomaly detected\")\n",
    "                print(\"Current Point: \", current_point, \" Last Point: \", last_point)\n",
    "                anomaly = True\n",
    "            \n",
    "            break\n",
    "        \n",
    "        #2.b no shocked face. keep moving\n",
    "        \n",
    "        #determine direction of movement\n",
    "        if next_direction == 'left' or next_direction == 'right':\n",
    "            direction = 'x'\n",
    "        if next_direction == 'up' or next_direction == 'down':\n",
    "            direction = 'y'\n",
    "        \n",
    "        #character on edge\n",
    "        \n",
    "        if onEdge(game_image_gray, direction):\n",
    "            if direction == 'y':\n",
    "                movement_time = 1.35\n",
    "            else:\n",
    "                movement_time = 1.0\n",
    "            \n",
    "            pyautogui.keyDown(next_direction)\n",
    "            time.sleep(movement_time)\n",
    "            pyautogui.keyUp(next_direction)\n",
    "            \n",
    "            #mark previous point as visited\n",
    "            if not anomaly:\n",
    "                visit_map[current_point] = 1\n",
    "            #assign next point as new current point\n",
    "            last_point = current_point\n",
    "            current_point = next_point\n",
    "            \n",
    "            anomaly = False\n",
    "            print(\"current point\", current_point)\n",
    "            #back to step 1\n",
    "            break\n",
    "\n",
    "        #print(onEdge(game_image_gray, 'y'))\n",
    "\n",
    "        #press left keyfor 0.3 seconds    \n",
    "        pyautogui.keyDown(next_direction)\n",
    "        time.sleep(0.1)\n",
    "        pyautogui.keyUp(next_direction)\n",
    "        #pyautogui.press(\"left\", interval=0.5)\n",
    "    \n",
    "    if current_point == (1,9) or current_point == (2,9) or current_point == (3,9):\n",
    "        print(\"___WIN___\")\n",
    "        break\n",
    "    initial += 1\n",
    "    "
   ]
  },
  {
   "cell_type": "code",
   "execution_count": 21,
   "metadata": {},
   "outputs": [
    {
     "data": {
      "text/plain": [
       "array([[0, 0, 0, 0, 0, 0, 0, 0, 0, 0, 0],\n",
       "       [0, 0, 0, 0, 1, 0, 0, 0, 0, 0, 0],\n",
       "       [0, 0, 0, 0, 0, 1, 0, 1, 1, 0, 0],\n",
       "       [0, 0, 0, 1, 0, 0, 0, 1, 1, 0, 0],\n",
       "       [0, 0, 1, 0, 0, 0, 0, 0, 0, 0, 0],\n",
       "       [0, 0, 0, 0, 0, 0, 0, 0, 0, 0, 0],\n",
       "       [0, 0, 0, 0, 0, 0, 0, 0, 0, 0, 0]], dtype=uint8)"
      ]
     },
     "execution_count": 21,
     "metadata": {},
     "output_type": "execute_result"
    }
   ],
   "source": [
    "mine_map"
   ]
  },
  {
   "cell_type": "code",
   "execution_count": 22,
   "metadata": {},
   "outputs": [
    {
     "data": {
      "text/plain": [
       "array([[0, 0, 0, 0, 0, 0, 0, 0, 0, 0, 0],\n",
       "       [0, 0, 0, 0, 0, 0, 1, 1, 1, 1, 0],\n",
       "       [0, 0, 1, 1, 1, 0, 1, 0, 0, 1, 0],\n",
       "       [0, 1, 1, 0, 1, 1, 1, 0, 0, 0, 0],\n",
       "       [0, 1, 0, 0, 0, 0, 0, 0, 0, 0, 0],\n",
       "       [0, 1, 1, 0, 0, 0, 0, 0, 0, 0, 0],\n",
       "       [0, 0, 0, 0, 0, 0, 0, 0, 0, 0, 0]], dtype=uint8)"
      ]
     },
     "execution_count": 22,
     "metadata": {},
     "output_type": "execute_result"
    }
   ],
   "source": [
    "visit_map"
   ]
  },
  {
   "cell_type": "code",
   "execution_count": null,
   "metadata": {},
   "outputs": [],
   "source": []
  }
 ],
 "metadata": {
  "kernelspec": {
   "display_name": "Python 3",
   "language": "python",
   "name": "python3"
  },
  "language_info": {
   "codemirror_mode": {
    "name": "ipython",
    "version": 3
   },
   "file_extension": ".py",
   "mimetype": "text/x-python",
   "name": "python",
   "nbconvert_exporter": "python",
   "pygments_lexer": "ipython3",
   "version": "3.8.5"
  }
 },
 "nbformat": 4,
 "nbformat_minor": 4
}
